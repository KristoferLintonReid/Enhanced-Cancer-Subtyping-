{
 "cells": [
  {
   "cell_type": "markdown",
   "metadata": {},
   "source": [
    "# Clustering Functions "
   ]
  },
  {
   "cell_type": "markdown",
   "metadata": {},
   "source": [
    "## In this notebook there are a series of useful R functions to perform clustering\n",
    "### As follows: \n",
    "#### 1. Basic NMF - (AutoNMF), negative matrix values are set the the minimum, cluster is determined by the meax cophentic coef.  \n",
    "#### 2. Basic NMF (2.0) - (AutoNMF2), with preselected top 2000 variable genes\n",
    "#### 3. AutoNMF_DE -  AutoNMF with 'EdgerR' Differentail Expression, and GWAS  \n",
    "#### 4. Monti-Carlo Consensus Based Clustering (M3C) - (AutoM3C), this method allows rejection of the NULL Hypothesis that K= 1, it also provides useful info on the stability of clusters \n",
    "#### 5. AutoM3C_DE - with 'EdgerR' Differentail Expression, and GWAS  \n",
    "\n",
    "###### Important Notes: \n",
    "###### - Input 'x' is the expression matrix with gene expression features (gene names/ensemble IDs) in rownames, Samples as columns (Sample Names as colnames)\n",
    "###### - 32GB RAM systems may throw an error depending on data set size because of R's, look into unlimit this or use 64GB RAM system\n",
    "###### - For publication/important puposes I recomend doing both NMF and M3C, as M3C is quite novel "
   ]
  },
  {
   "cell_type": "code",
   "execution_count": 1,
   "metadata": {},
   "outputs": [
    {
     "name": "stderr",
     "output_type": "stream",
     "text": [
      "Loading required package: pkgmaker\n",
      "Loading required package: registry\n",
      "Loading required package: rngtools\n",
      "Loading required package: cluster\n",
      "NMF - BioConductor layer [OK] | Shared memory capabilities [OK] | Cores 7/8\n",
      "\n",
      "Attaching package: ‘gplots’\n",
      "\n",
      "The following object is masked from ‘package:stats’:\n",
      "\n",
      "    lowess\n",
      "\n"
     ]
    }
   ],
   "source": [
    "            ## Librarys ## \n",
    "#Installation# \n",
    "## try http:// if https:// URLs are not supported\n",
    "#source(\"https://bioc.ism.ac.jp/biocLite.R\")\n",
    "#biocLite(\"M3C\")\n",
    "#biocLite(\"NMF\")\n",
    "#biocLite(\"gplots\")\n",
    "#biocLite(\"ggsci\")\n",
    "#install.packages (\"do.parallel\")-- This will allow for parallel processing with the NMF funcion- *nix/Mac only \n",
    "library(M3C) # M3C Consensus Based Clustering \n",
    "library(NMF) # For NMF and the heatmap  and nneg functions function \n",
    "library(gplots) # has a nice colour scale\n",
    "library(ggsci) # more cool colours"
   ]
  },
  {
   "cell_type": "markdown",
   "metadata": {},
   "source": [
    "#### 1. Basic NMF - AutoNMF, negative matrix values are set the the minimum, cluster is determined by the meax cophentic coef.  \n"
   ]
  },
  {
   "cell_type": "code",
   "execution_count": null,
   "metadata": {},
   "outputs": [],
   "source": [
    "\n",
    "AutoNMF <- function(x){\n",
    "   x_pos <- nneg(as.matrix(x), method=c(\"min\")) \n",
    "    NMF_Estimate <- nmfEstimateRank(x_pos,2:10, nrun=100,) #can add in .options=\"P\"- this enables parallel processing\n",
    "    #rX <- randomize(x_Pos) # For randomised NMF \n",
    "    #rand_ Estiamate  <- nmfEstimateRank(rX, 2:10, nrun=100) \n",
    "    rw <- which.max(NMF_Estimate$measures$cophenetic) # This will automatically determine optimal rank based on max copenhentic coefictient\n",
    "Rank <- NMF_Estimate$measures$rank[rw]\n",
    "res <- nmf(x_pos, Rank, nrun = 1000) \n",
    "    return(res)\n",
    "}\n",
    "\n"
   ]
  },
  {
   "cell_type": "code",
   "execution_count": null,
   "metadata": {},
   "outputs": [],
   "source": [
    " #plot(NMF_Estimate, rand_Estimate) # Make sure the clusters aren't random\n",
    "#plot(res) # NMF plots \n",
    "    #plot(silhouette(res)) ## This tells you how stable samples are in the clusters \n",
    "    "
   ]
  },
  {
   "cell_type": "markdown",
   "metadata": {},
   "source": [
    "#### 2. Basic NMF (2.0) - (AutoNMF2), with preselected top 2000 variable genes\n"
   ]
  },
  {
   "cell_type": "code",
   "execution_count": null,
   "metadata": {},
   "outputs": [],
   "source": [
    "AutoNMF2 <- function(x){\n",
    "    var_genes <- apply(x, 1, var)\n",
    "\n",
    "# Get the gene names for the top 2000 most variable genes\n",
    "select_var <- names(sort(var_genes, decreasing=TRUE))[1:2000]\n",
    "\n",
    "\n",
    "# Subset 20000 matrix\n",
    "highly_variable_genes <- x[select_var,]\n",
    "rownames(highly_variable_genes) <- select_var\n",
    "    \n",
    "    ## Make matrix possitive ## \n",
    "    x_pos <- as.data.frame(nneg(highly_variable_genes, method=c(\"min\")))\n",
    "    \n",
    "    ##Estimate the NMF Rank ##\n",
    "    \n",
    "    NMF_Estimate <- nmfEstimateRank(x_pos,2:10, nrun=100,) #can add in .options=\"P\"- this enables parallel processing\n",
    "    #rX <- randomize(x_Pos) # For randomised NMF \n",
    "    #rand_ Estiamate  <- nmfEstimateRank(rX, 2:10, nrun=100)\n",
    "    rw <- which.max(NMF_Estimate$measures$cophenetic) # This will automatically determine optimal rank based on max copenhentic coefictient\n",
    "Rank <- x_NMF_Estimate$measures$rank[rw]\n",
    "res <- nmf(x_pos, rank=Rank, nrun = 100)\n",
    "    ## data_list('rand', rand_Estiamate, 'res', res)\n",
    "    ## retrun(data_list)\n",
    "   }"
   ]
  },
  {
   "cell_type": "code",
   "execution_count": null,
   "metadata": {},
   "outputs": [],
   "source": [
    "#plot(NMF_Estimate, rand_Estimate) # Make sure the clusters aren't random \n",
    "###plot(res)\n",
    "    ##plot(silhouette(res)) ## This tells you how stable the clusters are \n"
   ]
  },
  {
   "cell_type": "markdown",
   "metadata": {},
   "source": [
    "#### 4. Monti-Carlo Consensus Based Clustering (M3C) - (AutoM3C), this method allows rejection of the NULL Hypothesis that K= 1, it also provides useful info on the stability of clusters \n"
   ]
  },
  {
   "cell_type": "code",
   "execution_count": null,
   "metadata": {},
   "outputs": [],
   "source": [
    "AutoM3C <- function(x) { \n",
    "    x_pos <- nneg(as.matrix(exps_data), method=c(\"min\"))\n",
    "res <- M3C(x_pos, cores=4, seed = 1234, des = NULL) ##Double check cores, 4 is standard##\n",
    "   rw <- which.max(res$scores$PAC_REAL)\n",
    "   Rank <- res$scores$K[rw]\n",
    "    data <- res$realdataresults[[Rank]]$ordered_data # this is the data\n",
    "annon <- res$realdataresults[[Rank]]$ordered_annotation # this is the annotation\n",
    "ccmatrix <- res$realdataresults[[Rank]]$consensus_matrix # this is the consensus matrix\n",
    "    data_list <- list('data'= data, 'annon' = annon, 'ccmatrix'=  ccmatrix)\n",
    "    return(data_list)\n",
    "} \n",
    " ## Plots ## \n",
    "\n",
    "# normalise and scale the data\n",
    "#data <- t(scale(t(P$data))) # z-score normalise each row (feature)\n",
    "#data <- apply(data, 2, function(x) ifelse(x > 4, 4, x)) # compress data within range\n",
    "#data <- apply(data, 2, function(x) ifelse(x < -4, -4, x)) # compress data within range\n",
    "\n",
    "# get some cool colour palettes from the ggsci package and RColourBrewer\n",
    "#ann_colors <- ggsci::pal_startrek(\"uniform\")(4) # star trek palette\n",
    "#ann_colors2 <- ggsci::pal_futurama()(4) # futurama palette\n",
    "#pal <- rev(colorRampPalette(RColorBrewer::brewer.pal(10, \"RdBu\"))(256))\n",
    "# NMF::aheatmap(data, annCol = P$annon, Colv = NA, distfun = 'pearson', \n",
    "         #color = gplots::bluered(256), annColors = list(class=ann_colors, consensuscluster=ann_colors2))\n",
    "\n",
    "\n",
    "#n <- 10\n",
    "#seq = rev(seq(0,255,by=255/(n)))\n",
    "#palRGB = cbind(seq,seq,255)\n",
    "#mypal <-rgb(palRGB,maxColorValue=255)\n",
    "# plot consensus matrix heatmap, do not cluster rows and columns\n",
    "#NMF::aheatmap(ccmatrix, \n",
    "              #annCol = annon[,1,drop=FALSE], \n",
    "              #color = mypal, scale = 'none', cexRow = 0, cexCol = 0,\n",
    "              #Colv=NA,Rowv=NA,annColors = list(consensuscluster=ann_colors2))"
   ]
  },
  {
   "cell_type": "code",
   "execution_count": null,
   "metadata": {},
   "outputs": [],
   "source": []
  }
 ],
 "metadata": {
  "kernelspec": {
   "display_name": "R",
   "language": "R",
   "name": "ir"
  },
  "language_info": {
   "codemirror_mode": "r",
   "file_extension": ".r",
   "mimetype": "text/x-r-source",
   "name": "R",
   "pygments_lexer": "r",
   "version": "3.6.1"
  }
 },
 "nbformat": 4,
 "nbformat_minor": 2
}
